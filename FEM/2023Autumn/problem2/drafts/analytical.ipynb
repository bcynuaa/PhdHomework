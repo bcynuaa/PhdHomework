{
 "cells": [
  {
   "cell_type": "code",
   "execution_count": 2,
   "metadata": {},
   "outputs": [],
   "source": [
    "import sympy as spy\n",
    "import numpy as np\n",
    "import matplotlib.pyplot as plt"
   ]
  },
  {
   "cell_type": "code",
   "execution_count": 3,
   "metadata": {},
   "outputs": [],
   "source": [
    "L = spy.symbols(\"L\")\n",
    "E = spy.symbols(\"E\")\n",
    "q = spy.symbols(\"q\")\n",
    "J1 = spy.symbols(\"J_1\")\n",
    "J2 = spy.symbols(\"J_2\")\n",
    "ML = spy.symbols(\"M_L\")\n",
    "x = spy.symbols(\"x\")\n",
    "EJ1 = E*J1\n",
    "EJ2 = E*J2"
   ]
  },
  {
   "cell_type": "code",
   "execution_count": 4,
   "metadata": {},
   "outputs": [
    {
     "name": "stdout",
     "output_type": "stream",
     "text": [
      "\\frac{L M_{L}}{E J_{2}} + \\frac{L M_{L}}{E J_{1}}\n"
     ]
    },
    {
     "data": {
      "text/latex": [
       "$\\displaystyle \\frac{L M_{L}}{E J_{2}} + \\frac{L M_{L}}{E J_{1}}$"
      ],
      "text/plain": [
       "L*M_L/(E*J_2) + L*M_L/(E*J_1)"
      ]
     },
     "execution_count": 4,
     "metadata": {},
     "output_type": "execute_result"
    }
   ],
   "source": [
    "theta_M = ML*L / EJ1 + ML*L / EJ2\n",
    "print(spy.latex(theta_M))\n",
    "theta_M"
   ]
  },
  {
   "cell_type": "code",
   "execution_count": 5,
   "metadata": {},
   "outputs": [
    {
     "name": "stdout",
     "output_type": "stream",
     "text": [
      "- \\frac{L^{3} q}{E J_{1}}\n"
     ]
    },
    {
     "data": {
      "text/latex": [
       "$\\displaystyle - \\frac{L^{3} q}{E J_{1}}$"
      ],
      "text/plain": [
       "-L**3*q/(E*J_1)"
      ]
     },
     "execution_count": 5,
     "metadata": {},
     "output_type": "execute_result"
    }
   ],
   "source": [
    "theta_q1 = -q*L*L**2 / 2 / EJ1 - (q*L**2/2)*L / EJ1 \n",
    "print(spy.latex(theta_q1))\n",
    "theta_q1"
   ]
  },
  {
   "cell_type": "code",
   "execution_count": 6,
   "metadata": {},
   "outputs": [
    {
     "name": "stdout",
     "output_type": "stream",
     "text": [
      "- \\frac{L^{3} q}{6 E J_{2}}\n"
     ]
    },
    {
     "data": {
      "text/latex": [
       "$\\displaystyle - \\frac{L^{3} q}{6 E J_{2}}$"
      ],
      "text/plain": [
       "-L**3*q/(6*E*J_2)"
      ]
     },
     "execution_count": 6,
     "metadata": {},
     "output_type": "execute_result"
    }
   ],
   "source": [
    "theta_q2 = -q*L**3 / 6 / EJ2\n",
    "print(spy.latex(theta_q2))\n",
    "theta_q2"
   ]
  },
  {
   "cell_type": "code",
   "execution_count": 7,
   "metadata": {},
   "outputs": [
    {
     "name": "stdout",
     "output_type": "stream",
     "text": [
      "- \\frac{L^{3} q}{6 E J_{2}} - \\frac{L^{3} q}{E J_{1}}\n"
     ]
    },
    {
     "data": {
      "text/latex": [
       "$\\displaystyle - \\frac{L^{3} q}{6 E J_{2}} - \\frac{L^{3} q}{E J_{1}}$"
      ],
      "text/plain": [
       "-L**3*q/(6*E*J_2) - L**3*q/(E*J_1)"
      ]
     },
     "execution_count": 7,
     "metadata": {},
     "output_type": "execute_result"
    }
   ],
   "source": [
    "theta_q = theta_q1 + theta_q2\n",
    "print(spy.latex(theta_q))\n",
    "theta_q"
   ]
  },
  {
   "cell_type": "code",
   "execution_count": 8,
   "metadata": {},
   "outputs": [
    {
     "name": "stdout",
     "output_type": "stream",
     "text": [
      "- \\frac{L^{3} q}{6 E J_{2}} + \\frac{L M_{L}}{E J_{2}} - \\frac{L^{3} q}{E J_{1}} + \\frac{L M_{L}}{E J_{1}} = 0\n"
     ]
    },
    {
     "data": {
      "text/latex": [
       "$\\displaystyle - \\frac{L^{3} q}{6 E J_{2}} + \\frac{L M_{L}}{E J_{2}} - \\frac{L^{3} q}{E J_{1}} + \\frac{L M_{L}}{E J_{1}} = 0$"
      ],
      "text/plain": [
       "Eq(-L**3*q/(6*E*J_2) + L*M_L/(E*J_2) - L**3*q/(E*J_1) + L*M_L/(E*J_1), 0)"
      ]
     },
     "execution_count": 8,
     "metadata": {},
     "output_type": "execute_result"
    }
   ],
   "source": [
    "eq = spy.Eq(theta_M+theta_q, 0)\n",
    "print(spy.latex(eq))\n",
    "eq"
   ]
  },
  {
   "cell_type": "code",
   "execution_count": 9,
   "metadata": {},
   "outputs": [
    {
     "name": "stdout",
     "output_type": "stream",
     "text": [
      "\\frac{L^{2} q \\left(J_{1} + 6 J_{2}\\right)}{6 \\left(J_{1} + J_{2}\\right)}\n"
     ]
    },
    {
     "data": {
      "text/latex": [
       "$\\displaystyle \\frac{L^{2} q \\left(J_{1} + 6 J_{2}\\right)}{6 \\left(J_{1} + J_{2}\\right)}$"
      ],
      "text/plain": [
       "L**2*q*(J_1 + 6*J_2)/(6*(J_1 + J_2))"
      ]
     },
     "execution_count": 9,
     "metadata": {},
     "output_type": "execute_result"
    }
   ],
   "source": [
    "ML_res = spy.solve(eq, ML)[0]\n",
    "print(spy.latex(ML_res))\n",
    "ML_res"
   ]
  },
  {
   "cell_type": "code",
   "execution_count": 10,
   "metadata": {},
   "outputs": [
    {
     "name": "stdout",
     "output_type": "stream",
     "text": [
      "\\frac{L^{2} q x \\left(J_{1} + 6 J_{2}\\right)}{6 E J_{1} \\left(J_{1} + J_{2}\\right)}\n"
     ]
    },
    {
     "data": {
      "text/latex": [
       "$\\displaystyle \\frac{L^{2} q x \\left(J_{1} + 6 J_{2}\\right)}{6 E J_{1} \\left(J_{1} + J_{2}\\right)}$"
      ],
      "text/plain": [
       "L**2*q*x*(J_1 + 6*J_2)/(6*E*J_1*(J_1 + J_2))"
      ]
     },
     "execution_count": 10,
     "metadata": {},
     "output_type": "execute_result"
    }
   ],
   "source": [
    "theta_M_x_1 = ML_res*x / EJ1\n",
    "print(spy.latex(theta_M_x_1))\n",
    "theta_M_x_1"
   ]
  },
  {
   "cell_type": "code",
   "execution_count": 11,
   "metadata": {},
   "outputs": [
    {
     "name": "stdout",
     "output_type": "stream",
     "text": [
      "\\frac{L q x \\left(- 3 L + x\\right)}{2 E J_{1}}\n"
     ]
    },
    {
     "data": {
      "text/latex": [
       "$\\displaystyle \\frac{L q x \\left(- 3 L + x\\right)}{2 E J_{1}}$"
      ],
      "text/plain": [
       "L*q*x*(-3*L + x)/(2*E*J_1)"
      ]
     },
     "execution_count": 11,
     "metadata": {},
     "output_type": "execute_result"
    }
   ],
   "source": [
    "theta_q_x_1 = -q*L * x**2 / 2 / EJ1 - (q*L*(L-x+L/2))*x / EJ1\n",
    "theta_q_x_1 = theta_q_x_1.simplify()\n",
    "print(spy.latex(theta_q_x_1))\n",
    "theta_q_x_1"
   ]
  },
  {
   "cell_type": "code",
   "execution_count": 12,
   "metadata": {},
   "outputs": [
    {
     "name": "stdout",
     "output_type": "stream",
     "text": [
      "\\frac{L^{2} q x \\left(J_{1} + 6 J_{2}\\right)}{6 E J_{1} \\left(J_{1} + J_{2}\\right)} + \\frac{L q x \\left(- 3 L + x\\right)}{2 E J_{1}}\n"
     ]
    },
    {
     "data": {
      "text/latex": [
       "$\\displaystyle \\frac{L^{2} q x \\left(J_{1} + 6 J_{2}\\right)}{6 E J_{1} \\left(J_{1} + J_{2}\\right)} + \\frac{L q x \\left(- 3 L + x\\right)}{2 E J_{1}}$"
      ],
      "text/plain": [
       "L**2*q*x*(J_1 + 6*J_2)/(6*E*J_1*(J_1 + J_2)) + L*q*x*(-3*L + x)/(2*E*J_1)"
      ]
     },
     "execution_count": 12,
     "metadata": {},
     "output_type": "execute_result"
    }
   ],
   "source": [
    "theta_x_1 = theta_M_x_1 + theta_q_x_1\n",
    "print(spy.latex(theta_x_1))\n",
    "theta_x_1"
   ]
  },
  {
   "cell_type": "code",
   "execution_count": 13,
   "metadata": {},
   "outputs": [
    {
     "name": "stdout",
     "output_type": "stream",
     "text": [
      "- \\frac{L^{3} q}{E J_{1}} + \\frac{L^{3} q \\left(J_{1} + 6 J_{2}\\right)}{6 E J_{1} \\left(J_{1} + J_{2}\\right)}\n"
     ]
    },
    {
     "data": {
      "text/latex": [
       "$\\displaystyle - \\frac{L^{3} q}{E J_{1}} + \\frac{L^{3} q \\left(J_{1} + 6 J_{2}\\right)}{6 E J_{1} \\left(J_{1} + J_{2}\\right)}$"
      ],
      "text/plain": [
       "-L**3*q/(E*J_1) + L**3*q*(J_1 + 6*J_2)/(6*E*J_1*(J_1 + J_2))"
      ]
     },
     "execution_count": 13,
     "metadata": {},
     "output_type": "execute_result"
    }
   ],
   "source": [
    "theta_end_1 = theta_x_1.subs(x, L)\n",
    "print(spy.latex(theta_end_1))\n",
    "theta_end_1"
   ]
  },
  {
   "cell_type": "code",
   "execution_count": 14,
   "metadata": {},
   "outputs": [
    {
     "name": "stdout",
     "output_type": "stream",
     "text": [
      "\\frac{L^{2} q \\left(J_{1} + 6 J_{2}\\right) \\left(- L + x\\right)}{6 E J_{2} \\left(J_{1} + J_{2}\\right)}\n"
     ]
    },
    {
     "data": {
      "text/latex": [
       "$\\displaystyle \\frac{L^{2} q \\left(J_{1} + 6 J_{2}\\right) \\left(- L + x\\right)}{6 E J_{2} \\left(J_{1} + J_{2}\\right)}$"
      ],
      "text/plain": [
       "L**2*q*(J_1 + 6*J_2)*(-L + x)/(6*E*J_2*(J_1 + J_2))"
      ]
     },
     "execution_count": 14,
     "metadata": {},
     "output_type": "execute_result"
    }
   ],
   "source": [
    "theta_M_x_2 = ML_res*(x-L) / EJ2\n",
    "print(spy.latex(theta_M_x_2))\n",
    "theta_M_x_2"
   ]
  },
  {
   "cell_type": "code",
   "execution_count": 15,
   "metadata": {},
   "outputs": [
    {
     "name": "stdout",
     "output_type": "stream",
     "text": [
      "\\frac{q \\left(7 L^{3} - 12 L^{2} x + 6 L x^{2} - x^{3}\\right)}{6 E J_{2}}\n"
     ]
    },
    {
     "data": {
      "text/latex": [
       "$\\displaystyle \\frac{q \\left(7 L^{3} - 12 L^{2} x + 6 L x^{2} - x^{3}\\right)}{6 E J_{2}}$"
      ],
      "text/plain": [
       "q*(7*L**3 - 12*L**2*x + 6*L*x**2 - x**3)/(6*E*J_2)"
      ]
     },
     "execution_count": 15,
     "metadata": {},
     "output_type": "execute_result"
    }
   ],
   "source": [
    "theta_q_x_2 = -q*(x-L)**3 / 6 / EJ2 - q*(2*L-x)*(x-L)**2 / 2 / EJ2 - (q*(2*L-x)**2/2)*(x-L) / EJ2\n",
    "theta_q_x_2 = theta_q_x_2.simplify()\n",
    "print(spy.latex(theta_q_x_2))\n",
    "theta_q_x_2"
   ]
  },
  {
   "cell_type": "code",
   "execution_count": 16,
   "metadata": {},
   "outputs": [
    {
     "name": "stdout",
     "output_type": "stream",
     "text": [
      "\\frac{q \\left(6 J_{1} L^{3} - 11 J_{1} L^{2} x + 6 J_{1} L x^{2} - J_{1} x^{3} - 4 J_{2} L^{3} - 6 J_{2} L^{2} x + 6 J_{2} L x^{2} - J_{2} x^{3}\\right)}{6 E J_{2} \\left(J_{1} + J_{2}\\right)}\n"
     ]
    },
    {
     "data": {
      "text/latex": [
       "$\\displaystyle \\frac{q \\left(6 J_{1} L^{3} - 11 J_{1} L^{2} x + 6 J_{1} L x^{2} - J_{1} x^{3} - 4 J_{2} L^{3} - 6 J_{2} L^{2} x + 6 J_{2} L x^{2} - J_{2} x^{3}\\right)}{6 E J_{2} \\left(J_{1} + J_{2}\\right)}$"
      ],
      "text/plain": [
       "q*(6*J_1*L**3 - 11*J_1*L**2*x + 6*J_1*L*x**2 - J_1*x**3 - 4*J_2*L**3 - 6*J_2*L**2*x + 6*J_2*L*x**2 - J_2*x**3)/(6*E*J_2*(J_1 + J_2))"
      ]
     },
     "execution_count": 16,
     "metadata": {},
     "output_type": "execute_result"
    }
   ],
   "source": [
    "theta_x_2 = theta_M_x_2 + theta_q_x_2 + theta_end_1\n",
    "theta_x_2 = theta_x_2.simplify()\n",
    "print(spy.latex(theta_x_2))\n",
    "theta_x_2"
   ]
  },
  {
   "cell_type": "code",
   "execution_count": 17,
   "metadata": {},
   "outputs": [
    {
     "data": {
      "text/latex": [
       "$\\displaystyle 0$"
      ],
      "text/plain": [
       "0"
      ]
     },
     "execution_count": 17,
     "metadata": {},
     "output_type": "execute_result"
    }
   ],
   "source": [
    "theta_x_2.subs(x, 2*L).simplify()"
   ]
  },
  {
   "cell_type": "code",
   "execution_count": 18,
   "metadata": {},
   "outputs": [
    {
     "name": "stdout",
     "output_type": "stream",
     "text": [
      "\\begin{cases} \\frac{L q x \\left(L \\left(J_{1} + 6 J_{2}\\right) - 3 \\left(J_{1} + J_{2}\\right) \\left(3 L - x\\right)\\right)}{6 E J_{1} \\left(J_{1} + J_{2}\\right)} & \\text{for}\\: L \\geq x \\\\\\frac{q \\left(6 J_{1} L^{3} - 11 J_{1} L^{2} x + 6 J_{1} L x^{2} - J_{1} x^{3} - 4 J_{2} L^{3} - 6 J_{2} L^{2} x + 6 J_{2} L x^{2} - J_{2} x^{3}\\right)}{6 E J_{2} \\left(J_{1} + J_{2}\\right)} & \\text{otherwise} \\end{cases}\n"
     ]
    },
    {
     "data": {
      "text/latex": [
       "$\\displaystyle \\begin{cases} \\frac{L q x \\left(L \\left(J_{1} + 6 J_{2}\\right) - 3 \\left(J_{1} + J_{2}\\right) \\left(3 L - x\\right)\\right)}{6 E J_{1} \\left(J_{1} + J_{2}\\right)} & \\text{for}\\: L \\geq x \\\\\\frac{q \\left(6 J_{1} L^{3} - 11 J_{1} L^{2} x + 6 J_{1} L x^{2} - J_{1} x^{3} - 4 J_{2} L^{3} - 6 J_{2} L^{2} x + 6 J_{2} L x^{2} - J_{2} x^{3}\\right)}{6 E J_{2} \\left(J_{1} + J_{2}\\right)} & \\text{otherwise} \\end{cases}$"
      ],
      "text/plain": [
       "Piecewise((L*q*x*(L*(J_1 + 6*J_2) - 3*(J_1 + J_2)*(3*L - x))/(6*E*J_1*(J_1 + J_2)), L >= x), (q*(6*J_1*L**3 - 11*J_1*L**2*x + 6*J_1*L*x**2 - J_1*x**3 - 4*J_2*L**3 - 6*J_2*L**2*x + 6*J_2*L*x**2 - J_2*x**3)/(6*E*J_2*(J_1 + J_2)), True))"
      ]
     },
     "execution_count": 18,
     "metadata": {},
     "output_type": "execute_result"
    }
   ],
   "source": [
    "theta_x = spy.Piecewise((theta_x_1, x <= L), (theta_x_2, x > L))\n",
    "theta_x = theta_x.simplify()\n",
    "print(spy.latex(theta_x))\n",
    "theta_x"
   ]
  },
  {
   "cell_type": "code",
   "execution_count": 19,
   "metadata": {},
   "outputs": [
    {
     "name": "stdout",
     "output_type": "stream",
     "text": [
      "\\frac{L^{2} q x^{2} \\left(J_{1} + 6 J_{2}\\right)}{12 E J_{1} \\left(J_{1} + J_{2}\\right)}\n"
     ]
    },
    {
     "data": {
      "text/latex": [
       "$\\displaystyle \\frac{L^{2} q x^{2} \\left(J_{1} + 6 J_{2}\\right)}{12 E J_{1} \\left(J_{1} + J_{2}\\right)}$"
      ],
      "text/plain": [
       "L**2*q*x**2*(J_1 + 6*J_2)/(12*E*J_1*(J_1 + J_2))"
      ]
     },
     "execution_count": 19,
     "metadata": {},
     "output_type": "execute_result"
    }
   ],
   "source": [
    "w_M_x_1 = ML_res*x**2 / 2 / EJ1\n",
    "print(spy.latex(w_M_x_1))\n",
    "w_M_x_1"
   ]
  },
  {
   "cell_type": "code",
   "execution_count": 20,
   "metadata": {},
   "outputs": [
    {
     "name": "stdout",
     "output_type": "stream",
     "text": [
      "\\frac{L q x^{2} \\left(- 9 L + 2 x\\right)}{12 E J_{1}}\n"
     ]
    },
    {
     "data": {
      "text/latex": [
       "$\\displaystyle \\frac{L q x^{2} \\left(- 9 L + 2 x\\right)}{12 E J_{1}}$"
      ],
      "text/plain": [
       "L*q*x**2*(-9*L + 2*x)/(12*E*J_1)"
      ]
     },
     "execution_count": 20,
     "metadata": {},
     "output_type": "execute_result"
    }
   ],
   "source": [
    "w_q_x_1 = -q*L * x**3 / 3 / EJ1 - (q*L*(L-x+L/2))*x**2 / 2 / EJ1\n",
    "w_q_x_1 = w_q_x_1.simplify()\n",
    "print(spy.latex(w_q_x_1))\n",
    "w_q_x_1"
   ]
  },
  {
   "cell_type": "code",
   "execution_count": 21,
   "metadata": {},
   "outputs": [
    {
     "name": "stdout",
     "output_type": "stream",
     "text": [
      "\\frac{L q x^{2} \\left(L \\left(J_{1} + 6 J_{2}\\right) - \\left(J_{1} + J_{2}\\right) \\left(9 L - 2 x\\right)\\right)}{12 E J_{1} \\left(J_{1} + J_{2}\\right)}\n"
     ]
    },
    {
     "data": {
      "text/latex": [
       "$\\displaystyle \\frac{L q x^{2} \\left(L \\left(J_{1} + 6 J_{2}\\right) - \\left(J_{1} + J_{2}\\right) \\left(9 L - 2 x\\right)\\right)}{12 E J_{1} \\left(J_{1} + J_{2}\\right)}$"
      ],
      "text/plain": [
       "L*q*x**2*(L*(J_1 + 6*J_2) - (J_1 + J_2)*(9*L - 2*x))/(12*E*J_1*(J_1 + J_2))"
      ]
     },
     "execution_count": 21,
     "metadata": {},
     "output_type": "execute_result"
    }
   ],
   "source": [
    "w_x_1 = w_M_x_1 + w_q_x_1\n",
    "w_x_1 = w_x_1.simplify()\n",
    "print(spy.latex(w_x_1))\n",
    "w_x_1"
   ]
  },
  {
   "cell_type": "code",
   "execution_count": 22,
   "metadata": {},
   "outputs": [
    {
     "data": {
      "text/latex": [
       "$\\displaystyle 0$"
      ],
      "text/plain": [
       "0"
      ]
     },
     "execution_count": 22,
     "metadata": {},
     "output_type": "execute_result"
    }
   ],
   "source": [
    "(w_x_1.diff(x) - theta_x_1).simplify()"
   ]
  },
  {
   "cell_type": "code",
   "execution_count": 23,
   "metadata": {},
   "outputs": [
    {
     "name": "stdout",
     "output_type": "stream",
     "text": [
      "- \\frac{L^{4} q \\left(6 J_{1} + J_{2}\\right)}{12 E J_{1} \\left(J_{1} + J_{2}\\right)}\n"
     ]
    },
    {
     "data": {
      "text/latex": [
       "$\\displaystyle - \\frac{L^{4} q \\left(6 J_{1} + J_{2}\\right)}{12 E J_{1} \\left(J_{1} + J_{2}\\right)}$"
      ],
      "text/plain": [
       "-L**4*q*(6*J_1 + J_2)/(12*E*J_1*(J_1 + J_2))"
      ]
     },
     "execution_count": 23,
     "metadata": {},
     "output_type": "execute_result"
    }
   ],
   "source": [
    "w_end_1 = w_x_1.subs(x, L)\n",
    "w_end_1 = w_end_1.simplify()\n",
    "print(spy.latex(w_end_1))\n",
    "w_end_1"
   ]
  },
  {
   "cell_type": "code",
   "execution_count": 24,
   "metadata": {},
   "outputs": [
    {
     "name": "stdout",
     "output_type": "stream",
     "text": [
      "\\frac{L^{2} q \\left(J_{1} + 6 J_{2}\\right) \\left(L - x\\right)^{2}}{12 E J_{2} \\left(J_{1} + J_{2}\\right)}\n"
     ]
    },
    {
     "data": {
      "text/latex": [
       "$\\displaystyle \\frac{L^{2} q \\left(J_{1} + 6 J_{2}\\right) \\left(L - x\\right)^{2}}{12 E J_{2} \\left(J_{1} + J_{2}\\right)}$"
      ],
      "text/plain": [
       "L**2*q*(J_1 + 6*J_2)*(L - x)**2/(12*E*J_2*(J_1 + J_2))"
      ]
     },
     "execution_count": 24,
     "metadata": {},
     "output_type": "execute_result"
    }
   ],
   "source": [
    "w_M_x_2 = ML_res*(x-L)**2 / 2 / EJ2\n",
    "w_M_x_2 = w_M_x_2.simplify()\n",
    "print(spy.latex(w_M_x_2))\n",
    "w_M_x_2"
   ]
  },
  {
   "cell_type": "code",
   "execution_count": 25,
   "metadata": {},
   "outputs": [
    {
     "name": "stdout",
     "output_type": "stream",
     "text": [
      "\\frac{q \\left(L - x\\right)^{2} \\left(- 3 \\left(L - x\\right)^{2} + 8 \\left(L - x\\right) \\left(2 L - x\\right) - 6 \\left(2 L - x\\right)^{2}\\right)}{24 E J_{2}}\n"
     ]
    },
    {
     "data": {
      "text/latex": [
       "$\\displaystyle \\frac{q \\left(L - x\\right)^{2} \\left(- 3 \\left(L - x\\right)^{2} + 8 \\left(L - x\\right) \\left(2 L - x\\right) - 6 \\left(2 L - x\\right)^{2}\\right)}{24 E J_{2}}$"
      ],
      "text/plain": [
       "q*(L - x)**2*(-3*(L - x)**2 + 8*(L - x)*(2*L - x) - 6*(2*L - x)**2)/(24*E*J_2)"
      ]
     },
     "execution_count": 25,
     "metadata": {},
     "output_type": "execute_result"
    }
   ],
   "source": [
    "w_q_x_2 = -q*(x-L)**4 / 8 / EJ2 - q*(2*L-x)*(x-L)**3 / 3 / EJ2 - (q*(2*L-x)**2/2) * (x-L)**2 / 2 / EJ2\n",
    "w_q_x_2 = w_q_x_2.simplify()\n",
    "print(spy.latex(w_q_x_2))\n",
    "w_q_x_2"
   ]
  },
  {
   "cell_type": "code",
   "execution_count": 26,
   "metadata": {},
   "outputs": [
    {
     "name": "stdout",
     "output_type": "stream",
     "text": [
      "\\frac{J_{1} L^{4} q}{12 E J_{1} J_{2} + 12 E J_{2}^{2}} - \\frac{6 J_{1} L^{4} q}{12 E J_{1}^{2} + 12 E J_{1} J_{2}} - \\frac{J_{1} L^{4} q}{6 E J_{1}^{2} + 6 E J_{1} J_{2}} - \\frac{2 J_{1} L^{3} q x}{12 E J_{1} J_{2} + 12 E J_{2}^{2}} + \\frac{J_{1} L^{3} q x}{6 E J_{1}^{2} + 6 E J_{1} J_{2}} + \\frac{J_{1} L^{2} q x^{2}}{12 E J_{1} J_{2} + 12 E J_{2}^{2}} + \\frac{6 J_{2} L^{4} q}{12 E J_{1} J_{2} + 12 E J_{2}^{2}} - \\frac{J_{2} L^{4} q}{12 E J_{1}^{2} + 12 E J_{1} J_{2}} - \\frac{6 J_{2} L^{4} q}{6 E J_{1}^{2} + 6 E J_{1} J_{2}} - \\frac{12 J_{2} L^{3} q x}{12 E J_{1} J_{2} + 12 E J_{2}^{2}} + \\frac{6 J_{2} L^{3} q x}{6 E J_{1}^{2} + 6 E J_{1} J_{2}} + \\frac{6 J_{2} L^{2} q x^{2}}{12 E J_{1} J_{2} + 12 E J_{2}^{2}} - \\frac{11 L^{4} q}{24 E J_{2}} + \\frac{7 L^{3} q x}{6 E J_{2}} - \\frac{L^{2} q x^{2}}{E J_{2}} + \\frac{L q x^{3}}{3 E J_{2}} - \\frac{q x^{4}}{24 E J_{2}} + \\frac{L^{4} q}{E J_{1}} - \\frac{L^{3} q x}{E J_{1}}\n"
     ]
    },
    {
     "data": {
      "text/latex": [
       "$\\displaystyle \\frac{J_{1} L^{4} q}{12 E J_{1} J_{2} + 12 E J_{2}^{2}} - \\frac{6 J_{1} L^{4} q}{12 E J_{1}^{2} + 12 E J_{1} J_{2}} - \\frac{J_{1} L^{4} q}{6 E J_{1}^{2} + 6 E J_{1} J_{2}} - \\frac{2 J_{1} L^{3} q x}{12 E J_{1} J_{2} + 12 E J_{2}^{2}} + \\frac{J_{1} L^{3} q x}{6 E J_{1}^{2} + 6 E J_{1} J_{2}} + \\frac{J_{1} L^{2} q x^{2}}{12 E J_{1} J_{2} + 12 E J_{2}^{2}} + \\frac{6 J_{2} L^{4} q}{12 E J_{1} J_{2} + 12 E J_{2}^{2}} - \\frac{J_{2} L^{4} q}{12 E J_{1}^{2} + 12 E J_{1} J_{2}} - \\frac{6 J_{2} L^{4} q}{6 E J_{1}^{2} + 6 E J_{1} J_{2}} - \\frac{12 J_{2} L^{3} q x}{12 E J_{1} J_{2} + 12 E J_{2}^{2}} + \\frac{6 J_{2} L^{3} q x}{6 E J_{1}^{2} + 6 E J_{1} J_{2}} + \\frac{6 J_{2} L^{2} q x^{2}}{12 E J_{1} J_{2} + 12 E J_{2}^{2}} - \\frac{11 L^{4} q}{24 E J_{2}} + \\frac{7 L^{3} q x}{6 E J_{2}} - \\frac{L^{2} q x^{2}}{E J_{2}} + \\frac{L q x^{3}}{3 E J_{2}} - \\frac{q x^{4}}{24 E J_{2}} + \\frac{L^{4} q}{E J_{1}} - \\frac{L^{3} q x}{E J_{1}}$"
      ],
      "text/plain": [
       "J_1*L**4*q/(12*E*J_1*J_2 + 12*E*J_2**2) - 6*J_1*L**4*q/(12*E*J_1**2 + 12*E*J_1*J_2) - J_1*L**4*q/(6*E*J_1**2 + 6*E*J_1*J_2) - 2*J_1*L**3*q*x/(12*E*J_1*J_2 + 12*E*J_2**2) + J_1*L**3*q*x/(6*E*J_1**2 + 6*E*J_1*J_2) + J_1*L**2*q*x**2/(12*E*J_1*J_2 + 12*E*J_2**2) + 6*J_2*L**4*q/(12*E*J_1*J_2 + 12*E*J_2**2) - J_2*L**4*q/(12*E*J_1**2 + 12*E*J_1*J_2) - 6*J_2*L**4*q/(6*E*J_1**2 + 6*E*J_1*J_2) - 12*J_2*L**3*q*x/(12*E*J_1*J_2 + 12*E*J_2**2) + 6*J_2*L**3*q*x/(6*E*J_1**2 + 6*E*J_1*J_2) + 6*J_2*L**2*q*x**2/(12*E*J_1*J_2 + 12*E*J_2**2) - 11*L**4*q/(24*E*J_2) + 7*L**3*q*x/(6*E*J_2) - L**2*q*x**2/(E*J_2) + L*q*x**3/(3*E*J_2) - q*x**4/(24*E*J_2) + L**4*q/(E*J_1) - L**3*q*x/(E*J_1)"
      ]
     },
     "execution_count": 26,
     "metadata": {},
     "output_type": "execute_result"
    }
   ],
   "source": [
    "w_x_2 = w_M_x_2 + w_q_x_2 + w_end_1 + theta_end_1*(x-L)\n",
    "w_x_2 = w_x_2.expand()\n",
    "print(spy.latex(w_x_2))\n",
    "w_x_2"
   ]
  },
  {
   "cell_type": "code",
   "execution_count": 27,
   "metadata": {},
   "outputs": [
    {
     "data": {
      "text/latex": [
       "$\\displaystyle 0$"
      ],
      "text/plain": [
       "0"
      ]
     },
     "execution_count": 27,
     "metadata": {},
     "output_type": "execute_result"
    }
   ],
   "source": [
    "(w_x_2.diff(x).simplify() - theta_x_2).simplify()"
   ]
  },
  {
   "cell_type": "code",
   "execution_count": 28,
   "metadata": {},
   "outputs": [
    {
     "name": "stdout",
     "output_type": "stream",
     "text": [
      "\\begin{cases} \\frac{L q x^{2} \\left(L \\left(J_{1} + 6 J_{2}\\right) - \\left(J_{1} + J_{2}\\right) \\left(9 L - 2 x\\right)\\right)}{12 E J_{1} \\left(J_{1} + J_{2}\\right)} & \\text{for}\\: L \\geq x \\\\\\frac{q \\left(- 9 J_{1}^{2} L^{4} + 24 J_{1}^{2} L^{3} x - 22 J_{1}^{2} L^{2} x^{2} + 8 J_{1}^{2} L x^{3} - J_{1}^{2} x^{4} + 9 J_{1} J_{2} L^{4} - 16 J_{1} J_{2} L^{3} x - 12 J_{1} J_{2} L^{2} x^{2} + 8 J_{1} J_{2} L x^{3} - J_{1} J_{2} x^{4} - 2 J_{2}^{2} L^{4}\\right)}{24 E J_{1} J_{2} \\left(J_{1} + J_{2}\\right)} & \\text{otherwise} \\end{cases}\n"
     ]
    },
    {
     "data": {
      "text/latex": [
       "$\\displaystyle \\begin{cases} \\frac{L q x^{2} \\left(L \\left(J_{1} + 6 J_{2}\\right) - \\left(J_{1} + J_{2}\\right) \\left(9 L - 2 x\\right)\\right)}{12 E J_{1} \\left(J_{1} + J_{2}\\right)} & \\text{for}\\: L \\geq x \\\\\\frac{q \\left(- 9 J_{1}^{2} L^{4} + 24 J_{1}^{2} L^{3} x - 22 J_{1}^{2} L^{2} x^{2} + 8 J_{1}^{2} L x^{3} - J_{1}^{2} x^{4} + 9 J_{1} J_{2} L^{4} - 16 J_{1} J_{2} L^{3} x - 12 J_{1} J_{2} L^{2} x^{2} + 8 J_{1} J_{2} L x^{3} - J_{1} J_{2} x^{4} - 2 J_{2}^{2} L^{4}\\right)}{24 E J_{1} J_{2} \\left(J_{1} + J_{2}\\right)} & \\text{otherwise} \\end{cases}$"
      ],
      "text/plain": [
       "Piecewise((L*q*x**2*(L*(J_1 + 6*J_2) - (J_1 + J_2)*(9*L - 2*x))/(12*E*J_1*(J_1 + J_2)), L >= x), (q*(-9*J_1**2*L**4 + 24*J_1**2*L**3*x - 22*J_1**2*L**2*x**2 + 8*J_1**2*L*x**3 - J_1**2*x**4 + 9*J_1*J_2*L**4 - 16*J_1*J_2*L**3*x - 12*J_1*J_2*L**2*x**2 + 8*J_1*J_2*L*x**3 - J_1*J_2*x**4 - 2*J_2**2*L**4)/(24*E*J_1*J_2*(J_1 + J_2)), True))"
      ]
     },
     "execution_count": 28,
     "metadata": {},
     "output_type": "execute_result"
    }
   ],
   "source": [
    "w_x = spy.Piecewise((w_x_1, x <= L), (w_x_2, x > L))\n",
    "w_x = w_x.simplify()\n",
    "print(spy.latex(w_x))\n",
    "w_x"
   ]
  },
  {
   "cell_type": "code",
   "execution_count": 29,
   "metadata": {},
   "outputs": [],
   "source": [
    "subs_dict = {\n",
    "    L: 0.15,\n",
    "    E: 207e9,\n",
    "    J1: (38.1e-3)**4*np.pi/64,\n",
    "    J2: (50.8e-3)**4*np.pi/64,\n",
    "    q: 35e3,\n",
    "}"
   ]
  },
  {
   "cell_type": "code",
   "execution_count": 30,
   "metadata": {},
   "outputs": [
    {
     "name": "stdout",
     "output_type": "stream",
     "text": [
      "\\begin{cases} x \\left(0.122599630386343 x - 0.0257568362948163\\right) & \\text{for}\\: x \\leq 0.15 \\\\- 0.0862028651153974 x^{3} + 0.0775825786038577 x^{2} - 0.013968317379196 x - 0.000464459502472649 & \\text{otherwise} \\end{cases}\n"
     ]
    },
    {
     "data": {
      "text/latex": [
       "$\\displaystyle \\begin{cases} x \\left(0.122599630386343 x - 0.0257568362948163\\right) & \\text{for}\\: x \\leq 0.15 \\\\- 0.0862028651153974 x^{3} + 0.0775825786038577 x^{2} - 0.013968317379196 x - 0.000464459502472649 & \\text{otherwise} \\end{cases}$"
      ],
      "text/plain": [
       "Piecewise((x*(0.122599630386343*x - 0.0257568362948163), x <= 0.15), (-0.0862028651153974*x**3 + 0.0775825786038577*x**2 - 0.013968317379196*x - 0.000464459502472649, True))"
      ]
     },
     "execution_count": 30,
     "metadata": {},
     "output_type": "execute_result"
    }
   ],
   "source": [
    "theta_x_numerical = theta_x.subs(subs_dict)\n",
    "theta_x_numerical = theta_x_numerical.simplify()\n",
    "print(spy.latex(theta_x_numerical))\n",
    "theta_x_numerical"
   ]
  },
  {
   "cell_type": "code",
   "execution_count": 31,
   "metadata": {},
   "outputs": [
    {
     "name": "stdout",
     "output_type": "stream",
     "text": [
      "\\begin{cases} x^{2} \\cdot \\left(0.0408665434621143 x - 0.0128784181474081\\right) & \\text{for}\\: x \\leq 0.15 \\\\- 0.0215507162788494 x^{4} + 0.0258608595346192 x^{3} - 0.00698415868959802 x^{2} - 0.000464459502472649 x - 1.39767905836677 \\cdot 10^{-6} & \\text{otherwise} \\end{cases}\n"
     ]
    },
    {
     "data": {
      "text/latex": [
       "$\\displaystyle \\begin{cases} x^{2} \\cdot \\left(0.0408665434621143 x - 0.0128784181474081\\right) & \\text{for}\\: x \\leq 0.15 \\\\- 0.0215507162788494 x^{4} + 0.0258608595346192 x^{3} - 0.00698415868959802 x^{2} - 0.000464459502472649 x - 1.39767905836677 \\cdot 10^{-6} & \\text{otherwise} \\end{cases}$"
      ],
      "text/plain": [
       "Piecewise((x**2*(0.0408665434621143*x - 0.0128784181474081), x <= 0.15), (-0.0215507162788494*x**4 + 0.0258608595346192*x**3 - 0.00698415868959802*x**2 - 0.000464459502472649*x - 1.39767905836677e-6, True))"
      ]
     },
     "execution_count": 31,
     "metadata": {},
     "output_type": "execute_result"
    }
   ],
   "source": [
    "w_x_numerical = w_x.subs(subs_dict)\n",
    "w_x_numerical = w_x_numerical.simplify()\n",
    "print(spy.latex(w_x_numerical))\n",
    "w_x_numerical"
   ]
  },
  {
   "cell_type": "code",
   "execution_count": 32,
   "metadata": {},
   "outputs": [
    {
     "data": {
      "image/png": "[encoded data removed]",
      "text/plain": [
       "<Figure size 1000x500 with 1 Axes>"
      ]
     },
     "metadata": {},
     "output_type": "display_data"
    }
   ],
   "source": [
    "plt.figure(figsize=(10, 5), facecolor=\"white\")\n",
    "x_values = np.linspace(0, 0.3, 1000)\n",
    "theta_x_values = np.array([theta_x_numerical.subs(x, x_value) for x_value in x_values])\n",
    "plt.plot(x_values, theta_x_values)\n",
    "plt.xlabel(\"$x$ [m]\")\n",
    "plt.ylabel(r\"$\\theta(x)$ [rad]\")\n",
    "plt.grid()\n",
    "plt.title(r\"Deflection angle $\\theta(x)$\")\n",
    "plt.savefig(\"../images/deflection_angle_analytical.pdf\", bbox_inches=\"tight\")\n",
    "plt.savefig(\"../images/deflection_angle_analytical.png\", bbox_inches=\"tight\")\n",
    "plt.show()"
   ]
  },
  {
   "cell_type": "code",
   "execution_count": 33,
   "metadata": {},
   "outputs": [
    {
     "data": {
      "image/png": "[encoded data removed]",
      "text/plain": [
       "<Figure size 1000x500 with 1 Axes>"
      ]
     },
     "metadata": {},
     "output_type": "display_data"
    }
   ],
   "source": [
    "plt.figure(figsize=(10, 5), facecolor=\"white\")\n",
    "x_values = np.linspace(0, 0.3, 1000)\n",
    "w_x_values = np.array([w_x_numerical.subs(x, x_value) for x_value in x_values])\n",
    "plt.plot(x_values, w_x_values)\n",
    "plt.xlabel(\"$x$ [m]\")\n",
    "plt.ylabel(r\"$w(x)$ [m]\")\n",
    "plt.grid()\n",
    "plt.title(r\"Deflection $w(x)$\")\n",
    "plt.savefig(\"../images/deflection_analytical.pdf\", bbox_inches=\"tight\")\n",
    "plt.savefig(\"../images/deflection_analytical.png\", bbox_inches=\"tight\")\n",
    "plt.show()"
   ]
  },
  {
   "cell_type": "code",
   "execution_count": 54,
   "metadata": {},
   "outputs": [],
   "source": [
    "from sympy.utilities.codegen import codegen"
   ]
  },
  {
   "cell_type": "code",
   "execution_count": 55,
   "metadata": {},
   "outputs": [
    {
     "name": "stdout",
     "output_type": "stream",
     "text": [
      "function analyticalAngle(x)\n",
      "    out1 = ((x <= 0.15) ? (x .* (0.122599630386343 * x - 0.0257568362948163)) : (-0.0862028651153974 * x .^ 3 + 0.0775825786038577 * x .^ 2 - 0.013968317379196 * x - 0.000464459502472649))\n",
      "    return out1\n",
      "end\n",
      "\n"
     ]
    }
   ],
   "source": [
    "# generate python code for theta(x)\n",
    "theta_x_code = codegen(\n",
    "    (\"analyticalAngle\", theta_x_numerical),\n",
    "    \"julia\",\n",
    "    \"analyticalAngle\",\n",
    "    header=False,\n",
    "    empty=False,\n",
    ")\n",
    "print(theta_x_code[0][1])"
   ]
  },
  {
   "cell_type": "code",
   "execution_count": 56,
   "metadata": {},
   "outputs": [
    {
     "name": "stdout",
     "output_type": "stream",
     "text": [
      "function analyticalDeflection(x)\n",
      "    out1 = ((x <= 0.15) ? (x .^ 2 .* (0.0408665434621143 * x - 0.0128784181474081)) : (-0.0215507162788494 * x .^ 4 + 0.0258608595346192 * x .^ 3 - 0.00698415868959802 * x .^ 2 - 0.000464459502472649 * x - 1.39767905836677e-6))\n",
      "    return out1\n",
      "end\n",
      "\n"
     ]
    }
   ],
   "source": [
    "# generate python code for w(x)\n",
    "w_x_code = codegen(\n",
    "    (\"analyticalDeflection\", w_x_numerical),\n",
    "    \"julia\",\n",
    "    \"analyticalDeflection\",\n",
    "    header=False,\n",
    "    empty=False,\n",
    ")\n",
    "print(w_x_code[0][1])"
   ]
  }
 ],
 "metadata": {
  "kernelspec": {
   "display_name": "Python 3",
   "language": "python",
   "name": "python3"
  },
  "language_info": {
   "codemirror_mode": {
    "name": "ipython",
    "version": 3
   },
   "file_extension": ".py",
   "mimetype": "text/x-python",
   "name": "python",
   "nbconvert_exporter": "python",
   "pygments_lexer": "ipython3",
   "version": "3.11.6"
  }
 },
 "nbformat": 4,
 "nbformat_minor": 2
}
