{
 "cells": [
  {
   "cell_type": "code",
   "execution_count": 1,
   "metadata": {},
   "outputs": [],
   "source": [
    "using LinearAlgebra, CairoMakie, SparseArrays;"
   ]
  },
  {
   "cell_type": "code",
   "execution_count": 2,
   "metadata": {},
   "outputs": [
    {
     "data": {
      "text/plain": [
       "HermiteBeam"
      ]
     },
     "metadata": {},
     "output_type": "display_data"
    }
   ],
   "source": [
    "struct HermiteBeam\n",
    "    n_nodes_::Int\n",
    "    n_elements_::Int\n",
    "    x_mesh_::Vector{Float64}\n",
    "    h_::Float64\n",
    "    e_s_::Float64\n",
    "    inertia_::Float64\n",
    "    q_::Float64\n",
    "end\n",
    "\n",
    "function HermiteBeam(n_nodes::Int, x_0::Float64, beam_length::Float64, e_s::Float64, inertia::Float64, q::Float64)\n",
    "    h = beam_length / (n_nodes - 1);\n",
    "    x_mesh = Vector(LinRange(x_0, x_0 + beam_length, n_nodes));\n",
    "    return HermiteBeam(n_nodes, n_nodes-1, x_mesh, h, e_s, inertia, q);\n",
    "end"
   ]
  },
  {
   "cell_type": "code",
   "execution_count": 3,
   "metadata": {},
   "outputs": [
    {
     "data": {
      "text/plain": [
       "generateBeamFEM (generic function with 1 method)"
      ]
     },
     "metadata": {},
     "output_type": "display_data"
    }
   ],
   "source": [
    "function generateBeamFEM(hermite_beams::Vector{HermiteBeam})\n",
    "    n_nodes = sum([hermite_beam.n_nodes_ for hermite_beam in hermite_beams]);\n",
    "    n_nodes -= length(hermite_beams) - 1;\n",
    "    stiffness_matrix = spzeros(2*n_nodes, 2*n_nodes);\n",
    "    source_vector = zeros(2*n_nodes);\n",
    "    for (i_beam, beam) in enumerate(hermite_beams)\n",
    "        start_node_id = sum([b.n_nodes_ for b in hermite_beams[1:i_beam-1]]) - (i_beam - 1);\n",
    "        h = beam.h_;\n",
    "        part_stiffness_matrix = [\n",
    "            12/h^3 6/h^2 -12/h^3 6/h^2;\n",
    "            6/h^2 4/h -6/h^2 2/h;\n",
    "            -12/h^3 -6/h^2 12/h^3 -6/h^2;\n",
    "            6/h^2 2/h -6/h^2 4/h\n",
    "        ] * beam.e_s_ * beam.inertia_;\n",
    "        part_source_vector = [h/2, h^2/12, h/2, -h^2/12] * beam.q_;\n",
    "        # insert part stiffness matrix to stiffness matrix\n",
    "        # and part source vector to source vector\n",
    "        for i_element = 1: beam.n_elements_\n",
    "            stiffness_matrix[\n",
    "                2*start_node_id + 2*i_element - 1: 2*start_node_id + 2*i_element + 2,\n",
    "                2*start_node_id + 2*i_element - 1: 2*start_node_id + 2*i_element + 2\n",
    "            ] .+= part_stiffness_matrix;\n",
    "            source_vector[\n",
    "                2*start_node_id + 2*i_element - 1: 2*start_node_id + 2*i_element + 2\n",
    "            ] .+= part_source_vector;\n",
    "        end\n",
    "    end\n",
    "    return stiffness_matrix, source_vector;\n",
    "end"
   ]
  },
  {
   "cell_type": "code",
   "execution_count": 27,
   "metadata": {},
   "outputs": [],
   "source": [
    "e_s = 207e9;\n",
    "d1 = 38.1e-3;\n",
    "d2 = 50.8e-3;\n",
    "j1 = pi/64 * d1^4;\n",
    "j2 = pi/64 * d2^4;\n",
    "l1 = 0.15;\n",
    "l2 = 0.3;\n",
    "l3 = 0.15;\n",
    "n1 = 2;\n",
    "n2 = 2;\n",
    "n3 = 2;\n",
    "q1 = 0.;\n",
    "q2 = -35e3;\n",
    "q3 = 0.;\n",
    "\n",
    "beam1 = HermiteBeam(n1, 0., l1, e_s, j1, q1);\n",
    "beam2 = HermiteBeam(n2, l1, l2, e_s, j2, q2);\n",
    "beam3 = HermiteBeam(n3, l1+l2, l3, e_s, j1, q3);\n",
    "beams = [beam1, beam2, beam3];"
   ]
  },
  {
   "cell_type": "code",
   "execution_count": 28,
   "metadata": {},
   "outputs": [],
   "source": [
    "stiffness_matrix, source_vector = generateBeamFEM(beams);"
   ]
  },
  {
   "cell_type": "code",
   "execution_count": 29,
   "metadata": {},
   "outputs": [
    {
     "data": {
      "text/plain": [
       "8×8 SparseMatrixCSC{Float64, Int64} with 40 stored entries:\n",
       "  7.61286e7   5.70964e6  -7.61286e7  …    ⋅           ⋅           ⋅ \n",
       "  5.70964e6   5.70964e5  -5.70964e6       ⋅           ⋅           ⋅ \n",
       " -7.61286e7  -5.70964e6   1.06204e8      4.51132e6    ⋅           ⋅ \n",
       "  5.70964e6   2.85482e5  -1.19832e6      4.51132e5    ⋅           ⋅ \n",
       "   ⋅           ⋅         -3.00755e7      1.19832e6  -7.61286e7   5.70964e6\n",
       "   ⋅           ⋅          4.51132e6  …   1.47323e6  -5.70964e6   2.85482e5\n",
       "   ⋅           ⋅           ⋅            -5.70964e6   7.61286e7  -5.70964e6\n",
       "   ⋅           ⋅           ⋅             2.85482e5  -5.70964e6   5.70964e5"
      ]
     },
     "metadata": {},
     "output_type": "display_data"
    }
   ],
   "source": [
    "stiffness_matrix"
   ]
  },
  {
   "cell_type": "code",
   "execution_count": 30,
   "metadata": {},
   "outputs": [
    {
     "data": {
      "text/plain": [
       "solve (generic function with 1 method)"
      ]
     },
     "metadata": {},
     "output_type": "display_data"
    }
   ],
   "source": [
    "function solve(\n",
    "    stiffness_matrix::SparseMatrixCSC, \n",
    "    source_vector::Vector, \n",
    "    known_nodes_ids::Vector,\n",
    "    known_nodes_values::Vector\n",
    ")::Vector\n",
    "    @assert length(known_nodes_ids) == length(known_nodes_values);\n",
    "    n_nodes = length(source_vector);\n",
    "    solution_vector = zeros(n_nodes);\n",
    "    solution_vector[known_nodes_ids] .= known_nodes_values;\n",
    "    unknown_nodes_ids = setdiff(1:n_nodes, known_nodes_ids);\n",
    "    part_stiffness_matrix = stiffness_matrix[unknown_nodes_ids, unknown_nodes_ids];\n",
    "    part_source_vector = (source_vector .- stiffness_matrix * solution_vector)[unknown_nodes_ids];\n",
    "    solution_vector[unknown_nodes_ids] .= part_stiffness_matrix \\ part_source_vector;\n",
    "    return solution_vector;\n",
    "end"
   ]
  },
  {
   "cell_type": "code",
   "execution_count": 31,
   "metadata": {},
   "outputs": [],
   "source": [
    "known_nodes_ids = [1, 2, 7, 8];\n",
    "known_nodes_values = [0., 0., 0., 0.];\n",
    "solution_vector = solve(stiffness_matrix, source_vector, known_nodes_ids, known_nodes_values);"
   ]
  },
  {
   "cell_type": "code",
   "execution_count": 32,
   "metadata": {},
   "outputs": [],
   "source": [
    "ws = solution_vector[1:2:end];\n",
    "thetas = solution_vector[2:2:end];"
   ]
  },
  {
   "cell_type": "code",
   "execution_count": 39,
   "metadata": {},
   "outputs": [
    {
     "data": {
      "text/plain": [
       "4-element Vector{Float64}:\n",
       "  0.0\n",
       " -0.0001518398241320473\n",
       " -0.0001518398241320473\n",
       "  0.0"
      ]
     },
     "metadata": {},
     "output_type": "display_data"
    }
   ],
   "source": [
    "ws"
   ]
  },
  {
   "cell_type": "code",
   "execution_count": 41,
   "metadata": {},
   "outputs": [
    {
     "data": {
      "text/plain": [
       "4-element Vector{Float64}:\n",
       "  0.0\n",
       " -0.0011050337605297248\n",
       "  0.001105033760529725\n",
       "  0.0"
      ]
     },
     "metadata": {},
     "output_type": "display_data"
    }
   ],
   "source": [
    "thetas"
   ]
  },
  {
   "cell_type": "code",
   "execution_count": 42,
   "metadata": {},
   "outputs": [
    {
     "data": {
      "text/plain": [
       "-0.0011050337605297276"
      ]
     },
     "metadata": {},
     "output_type": "display_data"
    }
   ],
   "source": [
    "analyticalAngle(l1)"
   ]
  },
  {
   "cell_type": "code",
   "execution_count": 43,
   "metadata": {},
   "outputs": [
    {
     "data": {
      "text/plain": [
       "-0.00015183982413204648"
      ]
     },
     "metadata": {},
     "output_type": "display_data"
    }
   ],
   "source": [
    "analyticalDeflection(l1)"
   ]
  },
  {
   "cell_type": "code",
   "execution_count": 33,
   "metadata": {},
   "outputs": [
    {
     "data": {
      "text/plain": [
       "hermiteInterpolation (generic function with 2 methods)"
      ]
     },
     "metadata": {},
     "output_type": "display_data"
    }
   ],
   "source": [
    "function hermiteInterpolation(\n",
    "    hermite_beams::Vector{HermiteBeam},\n",
    "    ws::Vector,\n",
    "    thetas::Vector,\n",
    "    x::Float64\n",
    ")\n",
    "    for (i_beam, beam) in enumerate(hermite_beams)\n",
    "        if x < beam.x_mesh_[1] || x > beam.x_mesh_[end]\n",
    "            continue;\n",
    "        else\n",
    "            start_node_id = sum([b.n_nodes_ for b in hermite_beams[1:i_beam-1]]) - (i_beam - 1);\n",
    "            w_beam = ws[start_node_id+1: start_node_id+beam.n_nodes_];\n",
    "            theta_beam = thetas[start_node_id+1: start_node_id+beam.n_nodes_];\n",
    "            if x in beam.x_mesh_\n",
    "                index = findfirst(isequal(x), beam.x_mesh_);\n",
    "                return w_beam[index], theta_beam[index];\n",
    "            else\n",
    "                index = findfirst(item->item > x, beam.x_mesh_);\n",
    "                if index == 1\n",
    "                    index = 2;\n",
    "                end\n",
    "                index -= 1;\n",
    "                x1 = beam.x_mesh_[index];\n",
    "                t = x - x1;\n",
    "                h = beam.h_;\n",
    "                w_theta = [w_beam[index], theta_beam[index], w_beam[index+1], theta_beam[index+1]];\n",
    "                coeff1 = [\n",
    "                    (h-t)^2 * (h + 2*t), t * (h-t)^2 * h, t^2 * (3*h - 2*t), t^2 * (t-h) * h\n",
    "                ] ./ h^3;\n",
    "                coeff2 = [\n",
    "                    6 * t * (t-h), (h - 3*t) * (h - t) * h, 6 * t * (h-t), t * (3*t - 2*h) * h\n",
    "                ] ./ h^3;\n",
    "                return dot(coeff1, w_theta), dot(coeff2, w_theta);\n",
    "            end\n",
    "        end\n",
    "    end\n",
    "    return 0., 0.;\n",
    "end\n",
    "\n",
    "function hermiteInterpolation(\n",
    "    hermite_beams::Vector{HermiteBeam},\n",
    "    ws::Vector,\n",
    "    thetas::Vector,\n",
    "    x_mesh_minor::Vector\n",
    ")\n",
    "    theta_minor = similar(x_mesh_minor);\n",
    "    w_minor = similar(x_mesh_minor);\n",
    "    for (i, x) in enumerate(x_mesh_minor)\n",
    "        w_minor[i], theta_minor[i] = hermiteInterpolation(hermite_beams, ws, thetas, x);\n",
    "    end\n",
    "    return w_minor, theta_minor;\n",
    "end"
   ]
  },
  {
   "cell_type": "code",
   "execution_count": 34,
   "metadata": {},
   "outputs": [],
   "source": [
    "x_minor = Vector(LinRange(0., (l1+l2+l3)/2, 101));\n",
    "w_minor, theta_minor = hermiteInterpolation(beams, ws, thetas, x_minor);"
   ]
  },
  {
   "cell_type": "code",
   "execution_count": 35,
   "metadata": {},
   "outputs": [],
   "source": [
    "function analyticalAngle(x)\n",
    "    out1 = ((x <= 0.15) ? (x .* (0.122599630386343 * x - 0.0257568362948163)) : (-0.0862028651153974 * x .^ 3 + 0.0775825786038577 * x .^ 2 - 0.013968317379196 * x - 0.000464459502472649))\n",
    "    return out1\n",
    "end\n",
    "\n",
    "function analyticalDeflection(x)\n",
    "    out1 = ((x <= 0.15) ? (x .^ 2 .* (0.0408665434621143 * x - 0.0128784181474081)) : (-0.0215507162788494 * x .^ 4 + 0.0258608595346192 * x .^ 3 - 0.00698415868959802 * x .^ 2 - 0.000464459502472649 * x - 1.39767905836677e-6))\n",
    "    return out1\n",
    "end\n",
    "\n",
    "x_analytical = Vector(LinRange(0., (l1+l2+l3)/2, 11));\n",
    "w_analytical = analyticalDeflection.(x_analytical);\n",
    "theta_analytical = analyticalAngle.(x_analytical);"
   ]
  },
  {
   "cell_type": "code",
   "execution_count": 36,
   "metadata": {},
   "outputs": [
    {
     "data": {
      "image/png": "[encoded data removed]"
     },
     "metadata": {},
     "output_type": "display_data"
    }
   ],
   "source": [
    "fig = Figure(resolution = (800, 600));\n",
    "axes = Axis(fig[1, 1], xlabel = L\"$x$\", ylabel = L\"$w(x)$\", title = L\"$w(x)-x$\");\n",
    "lines!(axes, x_minor, w_minor, color = :blue);\n",
    "scatter!(axes, x_analytical, w_analytical, color = :red);\n",
    "# save(\"w.png\", fig);\n",
    "fig"
   ]
  },
  {
   "cell_type": "code",
   "execution_count": 37,
   "metadata": {},
   "outputs": [
    {
     "data": {
      "image/png": "[encoded data removed]"
     },
     "metadata": {},
     "output_type": "display_data"
    }
   ],
   "source": [
    "fig = Figure(resolution = (800, 600));\n",
    "axes = Axis(fig[1, 1], xlabel = L\"$x$\", ylabel = L\"$\\theta(x)$\", title = L\"$\\theta(x)-x$\");\n",
    "lines!(axes, x_minor, theta_minor, color = :blue);\n",
    "scatter!(axes, x_analytical, theta_analytical, color = :red);\n",
    "# save(\"theta.png\", fig);\n",
    "fig"
   ]
  },
  {
   "cell_type": "code",
   "execution_count": 38,
   "metadata": {},
   "outputs": [],
   "source": []
  }
 ],
 "metadata": {
  "kernelspec": {
   "display_name": "Julia 1.8.0",
   "language": "julia",
   "name": "julia-1.8"
  },
  "language_info": {
   "file_extension": ".jl",
   "mimetype": "application/julia",
   "name": "julia",
   "version": "1.8.0"
  }
 },
 "nbformat": 4,
 "nbformat_minor": 2
}
